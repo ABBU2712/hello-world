{
  "nbformat": 4,
  "nbformat_minor": 0,
  "metadata": {
    "colab": {
      "name": "3D-Photo-Inpainting-Wandb.ipynb",
      "provenance": [],
      "collapsed_sections": [],
      "include_colab_link": true
    },
    "kernelspec": {
      "name": "python3",
      "display_name": "Python 3"
    },
    "accelerator": "GPU"
  },
  "cells": [
    {
      "cell_type": "markdown",
      "metadata": {
        "id": "view-in-github",
        "colab_type": "text"
      },
      "source": [
        "<a href=\"https://colab.research.google.com/github/ABBU2712/hello-world/blob/master/3D_Photo_Inpainting_Wandb.ipynb\" target=\"_parent\"><img src=\"https://colab.research.google.com/assets/colab-badge.svg\" alt=\"Open In Colab\"/></a>"
      ]
    },
    {
      "cell_type": "markdown",
      "metadata": {
        "id": "IY-s3ZpHBeAU",
        "colab_type": "text"
      },
      "source": [
        "**[CVPR 2020] 3D Photography using Context-aware Layered Depth Inpainting**\n",
        "\n",
        "[project website](https://shihmengli.github.io/3D-Photo-Inpainting/)"
      ]
    },
    {
      "cell_type": "markdown",
      "metadata": {
        "id": "LPQ0EWxgvMIc",
        "colab_type": "text"
      },
      "source": [
        "- **Prepare environment**\n"
      ]
    },
    {
      "cell_type": "code",
      "metadata": {
        "id": "5o-EIMeaghU0",
        "colab_type": "code",
        "colab": {}
      },
      "source": [
        "%%capture\n",
        "\n",
        "!pip3 install torch==1.4.0+cu100 torchvision==0.5.0+cu100 -f https://download.pytorch.org/whl/torch_stable.html\n",
        "!pip3 install opencv-python==4.2.0.32\n",
        "!pip3 install vispy==0.6.4\n",
        "!pip3 install moviepy==1.0.2\n",
        "!pip3 install transforms3d==0.3.1\n",
        "!pip3 install networkx==2.3\n",
        "!sudo apt install sed\n",
        "\n",
        "!pip install wandb -q"
      ],
      "execution_count": null,
      "outputs": []
    },
    {
      "cell_type": "markdown",
      "metadata": {
        "id": "c-g7AeLMvY0R",
        "colab_type": "text"
      },
      "source": [
        "- **Download script and pretrained model**\n"
      ]
    },
    {
      "cell_type": "code",
      "metadata": {
        "id": "cOFIBkWrBlNM",
        "colab_type": "code",
        "colab": {}
      },
      "source": [
        "%%capture\n",
        "\n",
        "%cd /content/\n",
        "!git clone https://github.com/ayulockin/3d-photo-inpainting.git\n",
        "%cd 3d-photo-inpainting\n",
        "!sh download.sh"
      ],
      "execution_count": null,
      "outputs": []
    },
    {
      "cell_type": "markdown",
      "metadata": {
        "id": "D_Fg_aMeDnmd",
        "colab_type": "text"
      },
      "source": [
        "- **Switch off off-screen rendering**"
      ]
    },
    {
      "cell_type": "code",
      "metadata": {
        "id": "S9TmdOBRDXcV",
        "colab_type": "code",
        "colab": {}
      },
      "source": [
        "!sed -i 's/offscreen_rendering: True/offscreen_rendering: False/g' argument.yml"
      ],
      "execution_count": null,
      "outputs": []
    },
    {
      "cell_type": "markdown",
      "metadata": {
        "id": "cCN8L7GiDpZA",
        "colab_type": "text"
      },
      "source": [
        "- **Please upload `.jpg` files to `/content/3d-photo-inpainting-master/image/`**\n",
        "  - You can run this step multiple times to upload multiple `.jpg` files."
      ]
    },
    {
      "cell_type": "markdown",
      "metadata": {
        "id": "wyLFopwVDzUg",
        "colab_type": "text"
      },
      "source": [
        "- **Execute the 3D Photo Inpainting**\n",
        "  - Note: The 3D photo generation process usually takes about 2-3 minutes or more depending on the available computing resources."
      ]
    },
    {
      "cell_type": "code",
      "metadata": {
        "id": "i5-MWEjfBjYx",
        "colab_type": "code",
        "colab": {
          "base_uri": "https://localhost:8080/",
          "height": 1000
        },
        "outputId": "9330bfdc-709a-4b1f-ddcb-70ac8cb347e1"
      },
      "source": [
        " !python main.py --config argument.yml"
      ],
      "execution_count": null,
      "outputs": [
        {
          "output_type": "stream",
          "text": [
            "running on device 0\n",
            "\r  0% 0/1 [00:00<?, ?it/s]Current Source ==>  inside_iss\n",
            "Running depth extraction at 1595219293.0946212\n",
            "initialize\n",
            "device: cpu\n",
            "start processing\n",
            "  processing image/inside_iss.jpg (1/1)\n",
            "torch.Size([1, 3, 384, 224])\n",
            "finished\n",
            "Start Running 3D_Photo ...\n",
            "Loading edge model at 1595219302.68241\n",
            "Loading depth model at 1595219305.1456823\n",
            "Loading rgb model at 1595219306.0114453\n",
            "Writing depth ply (and basically doing everything) at 1595219306.836531\n",
            "Writing mesh file mesh/inside_iss.ply ...\n",
            "Making video at 1595219413.6295257\n",
            "fov: 53.13010235415598\n",
            "Moviepy - Building video video/inside_iss_dolly-zoom-in.mp4.\n",
            "Moviepy - Writing video video/inside_iss_dolly-zoom-in.mp4\n",
            "\n",
            "  0% 0/1 [02:38<?, ?it/s]\n",
            "t:   0% 0/241 [00:00<?, ?it/s, now=None]\u001b[A\n",
            "t:  10% 23/241 [00:00<00:00, 224.65it/s, now=None]\u001b[A\n",
            "t:  18% 44/241 [00:00<00:00, 211.04it/s, now=None]\u001b[A\n",
            "t:  23% 55/241 [00:00<00:01, 117.67it/s, now=None]\u001b[A\n",
            "t:  27% 64/241 [00:00<00:01, 95.07it/s, now=None] \u001b[A\n",
            "t:  30% 73/241 [00:00<00:02, 79.94it/s, now=None]\u001b[A\n",
            "t:  34% 81/241 [00:00<00:02, 75.32it/s, now=None]\u001b[A\n",
            "t:  37% 89/241 [00:00<00:02, 72.90it/s, now=None]\u001b[A\n",
            "t:  40% 97/241 [00:01<00:02, 70.68it/s, now=None]\u001b[A\n",
            "t:  43% 104/241 [00:01<00:02, 67.32it/s, now=None]\u001b[A\n",
            "t:  46% 111/241 [00:01<00:02, 63.62it/s, now=None]\u001b[A\n",
            "t:  49% 118/241 [00:01<00:01, 65.22it/s, now=None]\u001b[A\n",
            "t:  52% 125/241 [00:01<00:01, 65.03it/s, now=None]\u001b[A\n",
            "t:  55% 132/241 [00:01<00:01, 63.01it/s, now=None]\u001b[A\n",
            "t:  58% 139/241 [00:01<00:01, 59.41it/s, now=None]\u001b[A\n",
            "t:  61% 147/241 [00:01<00:01, 60.70it/s, now=None]\u001b[A\n",
            "t:  64% 154/241 [00:01<00:01, 62.32it/s, now=None]\u001b[A\n",
            "t:  67% 161/241 [00:02<00:01, 61.25it/s, now=None]\u001b[A\n",
            "t:  70% 168/241 [00:02<00:01, 60.46it/s, now=None]\u001b[A\n",
            "t:  73% 175/241 [00:02<00:01, 60.29it/s, now=None]\u001b[A\n",
            "t:  76% 182/241 [00:02<00:00, 61.26it/s, now=None]\u001b[A\n",
            "t:  78% 189/241 [00:02<00:00, 61.02it/s, now=None]\u001b[A\n",
            "t:  81% 196/241 [00:02<00:00, 53.53it/s, now=None]\u001b[A\n",
            "t:  84% 203/241 [00:02<00:00, 54.75it/s, now=None]\u001b[A\n",
            "t:  87% 210/241 [00:02<00:00, 58.22it/s, now=None]\u001b[A\n",
            "t:  90% 216/241 [00:03<00:00, 57.25it/s, now=None]\u001b[A\n",
            "t:  93% 223/241 [00:03<00:00, 57.43it/s, now=None]\u001b[A\n",
            "t:  95% 230/241 [00:03<00:00, 60.30it/s, now=None]\u001b[A\n",
            "t:  98% 237/241 [00:03<00:00, 59.45it/s, now=None]\u001b[A\n",
            "Moviepy - Done !\n",
            "Moviepy - video ready video/inside_iss_dolly-zoom-in.mp4\n",
            "Moviepy - Building video video/inside_iss_zoom-in.mp4.\n",
            "Moviepy - Writing video video/inside_iss_zoom-in.mp4\n",
            "\n",
            "  0% 0/1 [03:18<?, ?it/s]\n",
            "t:   0% 0/241 [00:00<?, ?it/s, now=None]\u001b[A\n",
            "t:  10% 24/241 [00:00<00:00, 230.57it/s, now=None]\u001b[A\n",
            "t:  18% 43/241 [00:00<00:00, 215.46it/s, now=None]\u001b[A\n",
            "t:  22% 54/241 [00:00<00:01, 114.74it/s, now=None]\u001b[A\n",
            "t:  26% 63/241 [00:00<00:01, 91.78it/s, now=None] \u001b[A\n",
            "t:  30% 72/241 [00:00<00:02, 81.76it/s, now=None]\u001b[A\n",
            "t:  33% 80/241 [00:00<00:02, 76.63it/s, now=None]\u001b[A\n",
            "t:  37% 88/241 [00:00<00:02, 70.06it/s, now=None]\u001b[A\n",
            "t:  39% 95/241 [00:01<00:02, 66.62it/s, now=None]\u001b[A\n",
            "t:  43% 103/241 [00:01<00:02, 66.35it/s, now=None]\u001b[A\n",
            "t:  46% 110/241 [00:01<00:01, 66.23it/s, now=None]\u001b[A\n",
            "t:  49% 117/241 [00:01<00:01, 67.18it/s, now=None]\u001b[A\n",
            "t:  51% 124/241 [00:01<00:01, 62.06it/s, now=None]\u001b[A\n",
            "t:  54% 131/241 [00:01<00:01, 61.07it/s, now=None]\u001b[A\n",
            "t:  57% 138/241 [00:01<00:01, 62.84it/s, now=None]\u001b[A\n",
            "t:  60% 145/241 [00:01<00:01, 61.08it/s, now=None]\u001b[A\n",
            "t:  63% 152/241 [00:01<00:01, 59.50it/s, now=None]\u001b[A\n",
            "t:  66% 159/241 [00:02<00:01, 59.50it/s, now=None]\u001b[A\n",
            "t:  69% 166/241 [00:02<00:01, 60.40it/s, now=None]\u001b[A\n",
            "t:  72% 173/241 [00:02<00:01, 59.18it/s, now=None]\u001b[A\n",
            "t:  74% 179/241 [00:02<00:01, 59.06it/s, now=None]\u001b[A\n",
            "t:  77% 186/241 [00:02<00:00, 58.62it/s, now=None]\u001b[A\n",
            "t:  80% 193/241 [00:02<00:00, 59.29it/s, now=None]\u001b[A\n",
            "t:  83% 199/241 [00:02<00:00, 58.90it/s, now=None]\u001b[A\n",
            "t:  85% 205/241 [00:02<00:00, 58.64it/s, now=None]\u001b[A\n",
            "t:  88% 211/241 [00:02<00:00, 58.18it/s, now=None]\u001b[A\n",
            "t:  90% 218/241 [00:03<00:00, 59.08it/s, now=None]\u001b[A\n",
            "t:  93% 224/241 [00:03<00:00, 58.44it/s, now=None]\u001b[A\n",
            "t:  96% 231/241 [00:03<00:00, 56.65it/s, now=None]\u001b[A\n",
            "t:  99% 238/241 [00:03<00:00, 58.63it/s, now=None]\u001b[A\n",
            "Moviepy - Done !\n",
            "Moviepy - video ready video/inside_iss_zoom-in.mp4\n",
            "Moviepy - Building video video/inside_iss_circle.mp4.\n",
            "Moviepy - Writing video video/inside_iss_circle.mp4\n",
            "\n",
            "  0% 0/1 [03:58<?, ?it/s]\n",
            "t:   0% 0/241 [00:00<?, ?it/s, now=None]\u001b[A\n",
            "t:  10% 23/241 [00:00<00:00, 221.48it/s, now=None]\u001b[A\n",
            "t:  19% 45/241 [00:00<00:00, 216.87it/s, now=None]\u001b[A\n",
            "t:  23% 56/241 [00:00<00:02, 86.97it/s, now=None] \u001b[A\n",
            "t:  27% 65/241 [00:00<00:02, 64.82it/s, now=None]\u001b[A\n",
            "t:  30% 73/241 [00:00<00:02, 61.15it/s, now=None]\u001b[A\n",
            "t:  33% 80/241 [00:01<00:03, 51.79it/s, now=None]\u001b[A\n",
            "t:  36% 86/241 [00:01<00:03, 49.43it/s, now=None]\u001b[A\n",
            "t:  38% 92/241 [00:01<00:02, 50.14it/s, now=None]\u001b[A\n",
            "t:  41% 98/241 [00:01<00:02, 48.64it/s, now=None]\u001b[A\n",
            "t:  43% 104/241 [00:01<00:02, 47.45it/s, now=None]\u001b[A\n",
            "t:  45% 109/241 [00:01<00:02, 47.88it/s, now=None]\u001b[A\n",
            "t:  47% 114/241 [00:01<00:02, 44.97it/s, now=None]\u001b[A\n",
            "t:  49% 119/241 [00:01<00:02, 43.93it/s, now=None]\u001b[A\n",
            "t:  51% 124/241 [00:02<00:02, 44.45it/s, now=None]\u001b[A\n",
            "t:  54% 129/241 [00:02<00:02, 42.93it/s, now=None]\u001b[A\n",
            "t:  56% 134/241 [00:02<00:02, 43.10it/s, now=None]\u001b[A\n",
            "t:  58% 140/241 [00:02<00:02, 44.89it/s, now=None]\u001b[A\n",
            "t:  60% 145/241 [00:02<00:02, 44.49it/s, now=None]\u001b[A\n",
            "t:  63% 151/241 [00:02<00:02, 44.09it/s, now=None]\u001b[A\n",
            "t:  65% 156/241 [00:02<00:01, 44.58it/s, now=None]\u001b[A\n",
            "t:  67% 161/241 [00:02<00:01, 43.81it/s, now=None]\u001b[A\n",
            "t:  69% 166/241 [00:02<00:01, 45.16it/s, now=None]\u001b[A\n",
            "t:  71% 171/241 [00:03<00:01, 40.50it/s, now=None]\u001b[A\n",
            "t:  73% 176/241 [00:03<00:01, 41.70it/s, now=None]\u001b[A\n",
            "t:  75% 181/241 [00:03<00:01, 41.14it/s, now=None]\u001b[A\n",
            "t:  77% 186/241 [00:03<00:01, 41.52it/s, now=None]\u001b[A\n",
            "t:  79% 191/241 [00:03<00:01, 40.88it/s, now=None]\u001b[A\n",
            "t:  81% 196/241 [00:03<00:01, 41.37it/s, now=None]\u001b[A\n",
            "t:  83% 201/241 [00:03<00:00, 41.42it/s, now=None]\u001b[A\n",
            "t:  85% 206/241 [00:03<00:00, 43.01it/s, now=None]\u001b[A\n",
            "t:  88% 211/241 [00:04<00:00, 38.29it/s, now=None]\u001b[A\n",
            "t:  90% 216/241 [00:04<00:00, 40.05it/s, now=None]\u001b[A\n",
            "t:  92% 221/241 [00:04<00:00, 42.13it/s, now=None]\u001b[A\n",
            "t:  94% 226/241 [00:04<00:00, 41.24it/s, now=None]\u001b[A\n",
            "t:  96% 231/241 [00:04<00:00, 40.77it/s, now=None]\u001b[A\n",
            "t:  98% 236/241 [00:04<00:00, 42.41it/s, now=None]\u001b[A\n",
            "t: 100% 241/241 [00:04<00:00, 40.15it/s, now=None]\u001b[A\n",
            "Moviepy - Done !\n",
            "Moviepy - video ready video/inside_iss_circle.mp4\n",
            "Moviepy - Building video video/inside_iss_swing.mp4.\n",
            "Moviepy - Writing video video/inside_iss_swing.mp4\n",
            "\n",
            "  0% 0/1 [04:40<?, ?it/s]\n",
            "t:   0% 0/241 [00:00<?, ?it/s, now=None]\u001b[A\n",
            "t:   7% 18/241 [00:00<00:01, 155.38it/s, now=None]\u001b[A\n",
            "t:  14% 34/241 [00:00<00:01, 155.15it/s, now=None]\u001b[A\n",
            "t:  20% 48/241 [00:00<00:01, 113.99it/s, now=None]\u001b[A\n",
            "t:  23% 56/241 [00:00<00:02, 84.21it/s, now=None] \u001b[A\n",
            "t:  26% 63/241 [00:00<00:02, 74.31it/s, now=None]\u001b[A\n",
            "t:  29% 70/241 [00:00<00:02, 60.81it/s, now=None]\u001b[A\n",
            "t:  32% 76/241 [00:00<00:02, 56.68it/s, now=None]\u001b[A\n",
            "t:  34% 82/241 [00:01<00:02, 55.09it/s, now=None]\u001b[A\n",
            "t:  37% 88/241 [00:01<00:03, 49.18it/s, now=None]\u001b[A\n",
            "t:  39% 94/241 [00:01<00:02, 49.15it/s, now=None]\u001b[A\n",
            "t:  41% 99/241 [00:01<00:03, 45.09it/s, now=None]\u001b[A\n",
            "t:  43% 104/241 [00:01<00:03, 43.98it/s, now=None]\u001b[A\n",
            "t:  46% 110/241 [00:01<00:02, 45.94it/s, now=None]\u001b[A\n",
            "t:  48% 116/241 [00:01<00:02, 45.57it/s, now=None]\u001b[A\n",
            "t:  50% 121/241 [00:01<00:02, 46.34it/s, now=None]\u001b[A\n",
            "t:  52% 126/241 [00:02<00:02, 47.19it/s, now=None]\u001b[A\n",
            "t:  54% 131/241 [00:02<00:02, 46.63it/s, now=None]\u001b[A\n",
            "t:  56% 136/241 [00:02<00:02, 41.97it/s, now=None]\u001b[A\n",
            "t:  59% 141/241 [00:02<00:02, 42.91it/s, now=None]\u001b[A\n",
            "t:  61% 146/241 [00:02<00:02, 44.19it/s, now=None]\u001b[A\n",
            "t:  63% 151/241 [00:02<00:02, 44.61it/s, now=None]\u001b[A\n",
            "t:  65% 156/241 [00:02<00:01, 42.53it/s, now=None]\u001b[A\n",
            "t:  67% 161/241 [00:02<00:01, 44.44it/s, now=None]\u001b[A\n",
            "t:  69% 166/241 [00:03<00:01, 44.56it/s, now=None]\u001b[A\n",
            "t:  72% 173/241 [00:03<00:01, 49.48it/s, now=None]\u001b[A\n",
            "t:  74% 179/241 [00:03<00:01, 49.67it/s, now=None]\u001b[A\n",
            "t:  77% 185/241 [00:03<00:01, 46.52it/s, now=None]\u001b[A\n",
            "t:  79% 190/241 [00:03<00:01, 45.15it/s, now=None]\u001b[A\n",
            "t:  81% 196/241 [00:03<00:00, 45.00it/s, now=None]\u001b[A\n",
            "t:  83% 201/241 [00:03<00:00, 45.13it/s, now=None]\u001b[A\n",
            "t:  86% 207/241 [00:03<00:00, 44.95it/s, now=None]\u001b[A\n",
            "t:  88% 212/241 [00:03<00:00, 43.85it/s, now=None]\u001b[A\n",
            "t:  90% 217/241 [00:04<00:00, 45.51it/s, now=None]\u001b[A\n",
            "t:  93% 223/241 [00:04<00:00, 47.36it/s, now=None]\u001b[A\n",
            "t:  95% 228/241 [00:04<00:00, 43.97it/s, now=None]\u001b[A\n",
            "t:  97% 233/241 [00:04<00:00, 45.43it/s, now=None]\u001b[A\n",
            "t:  99% 239/241 [00:04<00:00, 48.25it/s, now=None]\u001b[A\n",
            "Moviepy - Done !\n",
            "Moviepy - video ready video/inside_iss_swing.mp4\n",
            "100% 1/1 [04:45<00:00, 285.66s/it]\n",
            "Traceback (most recent call last):\n",
            "  File \"main.py\", line 163, in <module>\n",
            "    wandb.log({'{}'.format(vid_file.split('.')[0]): wandb.Video('video/'+vid_file)})\n",
            "  File \"/usr/local/lib/python3.6/dist-packages/wandb/data_types.py\", line 722, in __init__\n",
            "    raise ValueError(\"wandb.Video accepts %s formats\" % \", \".join(Video.EXTS))\n",
            "ValueError: wandb.Video accepts gif, mp4, webm, ogg formats\n"
          ],
          "name": "stdout"
        }
      ]
    },
    {
      "cell_type": "code",
      "metadata": {
        "id": "1bM4yi-x3qqA",
        "colab_type": "code",
        "colab": {
          "base_uri": "https://localhost:8080/",
          "height": 35
        },
        "outputId": "886eec1c-965f-4ae9-86ca-0290b6ed403a"
      },
      "source": [
        "import wandb\n",
        "wandb.login()"
      ],
      "execution_count": null,
      "outputs": [
        {
          "output_type": "execute_result",
          "data": {
            "text/plain": [
              "True"
            ]
          },
          "metadata": {
            "tags": []
          },
          "execution_count": 5
        }
      ]
    },
    {
      "cell_type": "code",
      "metadata": {
        "id": "3C28F-Ue4bAe",
        "colab_type": "code",
        "colab": {}
      },
      "source": [
        "import os\n",
        "import numpy as np"
      ],
      "execution_count": null,
      "outputs": []
    },
    {
      "cell_type": "code",
      "metadata": {
        "id": "6XBmyOeh3eZy",
        "colab_type": "code",
        "colab": {
          "base_uri": "https://localhost:8080/",
          "height": 69
        },
        "outputId": "85cd0bb5-7c90-4054-fd8b-99b9fb5a1d12"
      },
      "source": [
        "wandb.init(entity='authors', project='3D-Inpainting')\n",
        "\n",
        "for vid_file in os.listdir('video/'):\n",
        "  if vid_file.endswith('.mp4'):\n",
        "    wandb.log({'{}'.format(vid_file.split('.')[0]): wandb.Video('video/'+vid_file)})\n",
        "\n",
        "for img_file in os.listdir('image/'):\n",
        "  if \"blackhole\" in img_file or \"milkyway\" in img_file:\n",
        "    wandb.log({'{}'.format(img_file.split('.')[0]): [wandb.Image(\"image/{}\".format(img_file))]})\n",
        "\n",
        "for depth_file in os.listdir('depth/'):\n",
        "  if depth_file.endswith('.npy'):\n",
        "    depth_img = np.load(\"depth/{}\".format(depth_file))\n",
        "    wandb.log({'{}'.format(depth_file.split('.')[0]): [wandb.Image(depth_img)]})"
      ],
      "execution_count": null,
      "outputs": [
        {
          "output_type": "display_data",
          "data": {
            "text/html": [
              "\n",
              "                Logging results to <a href=\"https://wandb.com\" target=\"_blank\">Weights & Biases</a> <a href=\"https://docs.wandb.com/integrations/jupyter.html\" target=\"_blank\">(Documentation)</a>.<br/>\n",
              "                Project page: <a href=\"https://app.wandb.ai/authors/3D-Inpainting\" target=\"_blank\">https://app.wandb.ai/authors/3D-Inpainting</a><br/>\n",
              "                Run page: <a href=\"https://app.wandb.ai/authors/3D-Inpainting/runs/ixsqzc55\" target=\"_blank\">https://app.wandb.ai/authors/3D-Inpainting/runs/ixsqzc55</a><br/>\n",
              "            "
            ],
            "text/plain": [
              "<IPython.core.display.HTML object>"
            ]
          },
          "metadata": {
            "tags": []
          }
        }
      ]
    },
    {
      "cell_type": "code",
      "metadata": {
        "id": "12UkYca53o1G",
        "colab_type": "code",
        "colab": {}
      },
      "source": [
        ""
      ],
      "execution_count": null,
      "outputs": []
    }
  ]
}